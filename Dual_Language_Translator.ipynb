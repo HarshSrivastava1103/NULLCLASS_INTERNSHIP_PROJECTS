{
  "nbformat": 4,
  "nbformat_minor": 0,
  "metadata": {
    "colab": {
      "provenance": []
    },
    "kernelspec": {
      "name": "python3",
      "display_name": "Python 3"
    },
    "language_info": {
      "name": "python"
    }
  },
  "cells": [
    {
      "cell_type": "code",
      "execution_count": null,
      "metadata": {
        "id": "MPsGJjaT3a2k"
      },
      "outputs": [],
      "source": [
        "import tkinter as tk\n",
        "from tkinter import messagebox, ttk\n",
        "from googletrans import Translator\n",
        "\n",
        "class DualLanguageTranslator:\n",
        "    def __init__(self, root):\n",
        "        self.root = root\n",
        "        self.root.title(\"Dual Language Translator (English to French & Hindi)\")\n",
        "        self.root.geometry(\"600x400\")\n",
        "\n",
        "        self.translator = Translator()\n",
        "\n",
        "        self.setup_gui()\n",
        "\n",
        "    def setup_gui(self):\n",
        "        # Style configuration\n",
        "        style = ttk.Style()\n",
        "        style.configure('TButton', padding=6, font=('Helvetica', 10))\n",
        "        style.configure('TLabel', font=('Helvetica', 12))\n",
        "\n",
        "        # Main frame\n",
        "        main_frame = ttk.Frame(self.root, padding=\"20\")\n",
        "        main_frame.grid(row=0, column=0, sticky=(tk.W, tk.E, tk.N, tk.S))\n",
        "\n",
        "        # Input section\n",
        "        ttk.Label(main_frame, text=\"Enter English Text:\", style='TLabel').grid(row=0, column=0, sticky=tk.W)\n",
        "        self.input_text = tk.Entry(main_frame, width=50)\n",
        "        self.input_text.grid(row=1, column=0, pady=10)\n",
        "\n",
        "        translate_button = ttk.Button(main_frame, text=\"Translate\", command=self.translate_text)\n",
        "        translate_button.grid(row=1, column=1, padx=10)\n",
        "\n",
        "        # Output section\n",
        "        ttk.Label(main_frame, text=\"Translated French:\", style='TLabel').grid(row=2, column=0, sticky=tk.W)\n",
        "        self.french_output = tk.Text(main_frame, height=3, width=50)\n",
        "        self.french_output.grid(row=3, column=0, pady=5)\n",
        "\n",
        "        ttk.Label(main_frame, text=\"Translated Hindi:\", style='TLabel').grid(row=4, column=0, sticky=tk.W)\n",
        "        self.hindi_output = tk.Text(main_frame, height=3, width=50)\n",
        "        self.hindi_output.grid(row=5, column=0, pady=5)\n",
        "\n",
        "    def translate_text(self):\n",
        "        text = self.input_text.get().strip()\n",
        "\n",
        "        if len(text) < 10:\n",
        "            messagebox.showinfo(\"Input Error\", \"Please enter a word or phrase with 10 or more letters.\")\n",
        "            return\n",
        "\n",
        "        # Translate to French and Hindi\n",
        "        french_translation = self.translator.translate(text, dest='fr').text\n",
        "        hindi_translation = self.translator.translate(text, dest='hi').text\n",
        "\n",
        "        # Display results\n",
        "        self.french_output.delete(1.0, tk.END)\n",
        "        self.french_output.insert(tk.END, french_translation)\n",
        "\n",
        "        self.hindi_output.delete(1.0, tk.END)\n",
        "        self.hindi_output.insert(tk.END, hindi_translation)\n",
        "\n",
        "if __name__ == \"__main__\":\n",
        "    root = tk.Tk()\n",
        "    app = DualLanguageTranslator(root)\n",
        "    root.mainloop()\n"
      ]
    }
  ]
}