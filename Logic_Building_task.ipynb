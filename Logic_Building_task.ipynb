{
  "nbformat": 4,
  "nbformat_minor": 0,
  "metadata": {
    "colab": {
      "provenance": []
    },
    "kernelspec": {
      "name": "python3",
      "display_name": "Python 3"
    },
    "language_info": {
      "name": "python"
    }
  },
  "cells": [
    {
      "cell_type": "code",
      "execution_count": null,
      "metadata": {
        "id": "MPsGJjaT3a2k"
      },
      "outputs": [],
      "source": [
        "import tkinter as tk\n",
        "from tkinter import messagebox, ttk\n",
        "from googletrans import Translator\n",
        "import datetime\n",
        "\n",
        "class LogicBuildingTranslator:\n",
        "    def __init__(self, root):\n",
        "        self.root = root\n",
        "        self.root.title(\"English to Hindi Translator\")\n",
        "        self.root.geometry(\"600x400\")\n",
        "\n",
        "        self.translator = Translator()\n",
        "\n",
        "        self.setup_gui()\n",
        "\n",
        "    def setup_gui(self):\n",
        "        # Style configuration\n",
        "        style = ttk.Style()\n",
        "        style.configure('TButton', padding=6, font=('Helvetica', 10))\n",
        "        style.configure('TLabel', font=('Helvetica', 12))\n",
        "\n",
        "        # Main frame\n",
        "        main_frame = ttk.Frame(self.root, padding=\"20\")\n",
        "        main_frame.grid(row=0, column=0, sticky=(tk.W, tk.E, tk.N, tk.S))\n",
        "\n",
        "        # Input section\n",
        "        ttk.Label(main_frame, text=\"Enter English Word:\", style='TLabel').grid(row=0, column=0, sticky=tk.W)\n",
        "        self.input_text = tk.Entry(main_frame, width=50)\n",
        "        self.input_text.grid(row=1, column=0, pady=10)\n",
        "\n",
        "        translate_button = ttk.Button(main_frame, text=\"Translate\", command=self.translate_text)\n",
        "        translate_button.grid(row=1, column=1, padx=10)\n",
        "\n",
        "        # Output section\n",
        "        ttk.Label(main_frame, text=\"Translated Hindi:\", style='TLabel').grid(row=2, column=0, sticky=tk.W)\n",
        "        self.hindi_output = tk.Text(main_frame, height=3, width=50)\n",
        "        self.hindi_output.grid(row=3, column=0, pady=5)\n",
        "\n",
        "    def translate_text(self):\n",
        "        text = self.input_text.get().strip().lower()\n",
        "\n",
        "        # Check if the input starts with a vowel\n",
        "        if text and text[0] in 'aeiou':\n",
        "            current_time = datetime.datetime.now().time()\n",
        "            start_time = datetime.time(21, 0)\n",
        "            end_time = datetime.time(22, 0)\n",
        "\n",
        "            if start_time <= current_time <= end_time:\n",
        "                # Translate to Hindi\n",
        "                hindi_translation = self.translator.translate(text, dest='hi').text\n",
        "                self.hindi_output.delete(1.0, tk.END)\n",
        "                self.hindi_output.insert(tk.END, hindi_translation)\n",
        "            else:\n",
        "                messagebox.showinfo(\"Time Error\", \"This word starts with a vowel. Please provide another word.\")\n",
        "        else:\n",
        "            # Translate if it does not start with a vowel\n",
        "            hindi_translation = self.translator.translate(text, dest='hi').text\n",
        "            self.hindi_output.delete(1.0, tk.END)\n",
        "            self.hindi_output.insert(tk.END, hindi_translation)\n",
        "\n",
        "if __name__ == \"__main__\":\n",
        "    root = tk.Tk()\n",
        "    app = LogicBuildingTranslator(root)\n",
        "    root.mainloop()\n"
      ]
    }
  ]
}